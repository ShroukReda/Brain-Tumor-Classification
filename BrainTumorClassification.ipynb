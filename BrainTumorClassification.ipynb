{
  "nbformat": 4,
  "nbformat_minor": 0,
  "metadata": {
    "kernelspec": {
      "name": "python3",
      "display_name": "Python 3",
      "language": "python"
    },
    "language_info": {
      "name": "python",
      "version": "3.7.9",
      "mimetype": "text/x-python",
      "codemirror_mode": {
        "name": "ipython",
        "version": 3
      },
      "pygments_lexer": "ipython3",
      "nbconvert_exporter": "python",
      "file_extension": ".py"
    },
    "colab": {
      "name": "BrainTumorClassification.ipynb",
      "provenance": []
    },
    "accelerator": "GPU"
  },
  "cells": [
    {
      "cell_type": "code",
      "metadata": {
        "colab": {
          "resources": {
            "http://localhost:8080/nbextensions/google.colab/files.js": {
              "data": "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",
              "ok": true,
              "headers": [
                [
                  "content-type",
                  "application/javascript"
                ]
              ],
              "status": 200,
              "status_text": "OK"
            }
          },
          "base_uri": "https://localhost:8080/",
          "height": 95
        },
        "id": "783PMXyRYYjX",
        "outputId": "951c1583-fc6c-4dee-f0e5-e3872cee1f99"
      },
      "source": [
        "!pip install -q kaggle\n",
        "\n",
        "from google.colab import files\n",
        "\n",
        "files.upload()"
      ],
      "execution_count": null,
      "outputs": [
        {
          "output_type": "display_data",
          "data": {
            "text/html": [
              "\n",
              "     <input type=\"file\" id=\"files-d447f3a0-645a-416f-a898-120a06a30944\" name=\"files[]\" multiple disabled\n",
              "        style=\"border:none\" />\n",
              "     <output id=\"result-d447f3a0-645a-416f-a898-120a06a30944\">\n",
              "      Upload widget is only available when the cell has been executed in the\n",
              "      current browser session. Please rerun this cell to enable.\n",
              "      </output>\n",
              "      <script src=\"/nbextensions/google.colab/files.js\"></script> "
            ],
            "text/plain": [
              "<IPython.core.display.HTML object>"
            ]
          },
          "metadata": {
            "tags": []
          }
        },
        {
          "output_type": "stream",
          "text": [
            "Saving kaggle.json to kaggle.json\n"
          ],
          "name": "stdout"
        },
        {
          "output_type": "execute_result",
          "data": {
            "text/plain": [
              "{'kaggle.json': b'{\"username\":\"sheroook\",\"key\":\"02840f90001498510610d93321c345e1\"}'}"
            ]
          },
          "metadata": {
            "tags": []
          },
          "execution_count": 1
        }
      ]
    },
    {
      "cell_type": "code",
      "metadata": {
        "id": "QDc4x2A7YkMS"
      },
      "source": [
        "! mkdir ~/.kaggle"
      ],
      "execution_count": null,
      "outputs": []
    },
    {
      "cell_type": "code",
      "metadata": {
        "id": "P6ZddrrRYq7v"
      },
      "source": [
        "! cp kaggle.json ~/.kaggle/"
      ],
      "execution_count": null,
      "outputs": []
    },
    {
      "cell_type": "code",
      "metadata": {
        "id": "5d-V_VFpYsEx"
      },
      "source": [
        "! chmod 600 ~/.kaggle/kaggle.json"
      ],
      "execution_count": null,
      "outputs": []
    },
    {
      "cell_type": "code",
      "metadata": {
        "colab": {
          "base_uri": "https://localhost:8080/"
        },
        "id": "5tHk35pCYvr0",
        "outputId": "838d3b82-447c-48ea-8351-8df7739470b4"
      },
      "source": [
        "cd /content"
      ],
      "execution_count": null,
      "outputs": [
        {
          "output_type": "stream",
          "text": [
            "/content\n"
          ],
          "name": "stdout"
        }
      ]
    },
    {
      "cell_type": "code",
      "metadata": {
        "colab": {
          "base_uri": "https://localhost:8080/"
        },
        "id": "0yeYR5fnYyn0",
        "outputId": "4d32e900-df89-4d25-943c-1b8e2768d697"
      },
      "source": [
        "!kaggle datasets download -d sartajbhuvaji/brain-tumor-classification-mri"
      ],
      "execution_count": null,
      "outputs": [
        {
          "output_type": "stream",
          "text": [
            "Downloading brain-tumor-classification-mri.zip to /content\n",
            " 93% 81.0M/86.8M [00:02<00:00, 26.3MB/s]\n",
            "100% 86.8M/86.8M [00:02<00:00, 34.1MB/s]\n"
          ],
          "name": "stdout"
        }
      ]
    },
    {
      "cell_type": "code",
      "metadata": {
        "colab": {
          "base_uri": "https://localhost:8080/"
        },
        "id": "U2G2WntnZRFS",
        "outputId": "68ee24f1-b07f-43a2-9707-cebc0e8dd00d"
      },
      "source": [
        "from zipfile import ZipFile\n",
        "\n",
        "file_name = \"/content/brain-tumor-classification-mri.zip\"\n",
        "\n",
        "# opening the zip file in read me mode\n",
        "with ZipFile(file_name, 'r') as zip :\n",
        "  print(\"Extracting the files...\")\n",
        "  zip.extractall()\n",
        "  print(\"Done\")"
      ],
      "execution_count": null,
      "outputs": [
        {
          "output_type": "stream",
          "text": [
            "Extracting the files...\n",
            "Done\n"
          ],
          "name": "stdout"
        }
      ]
    },
    {
      "cell_type": "code",
      "metadata": {
        "_uuid": "8f2839f25d086af736a60e9eeb907d3b93b6e0e5",
        "_cell_guid": "b1076dfc-b9ad-4769-8c92-a6c4dae69d19",
        "trusted": true,
        "id": "vQz7e0KLYWE6"
      },
      "source": [
        "import glob\n",
        "import cv2\n",
        "import numpy as np \n",
        "import pandas as pd\n",
        "import matplotlib.pyplot as plt\n",
        "\n",
        "from tensorflow.keras.models import Sequential\n",
        "from tensorflow.keras.layers import Dense, Conv2D, MaxPool2D, GlobalAveragePooling2D, Flatten, Dropout\n",
        "from tensorflow.keras.callbacks import EarlyStopping, ReduceLROnPlateau\n",
        "from tensorflow.keras.optimizers import Adam\n",
        "from sklearn.model_selection import train_test_split\n",
        "from keras.preprocessing.image import ImageDataGenerator\n",
        "from tensorflow.keras.applications import MobileNet\n",
        "from sklearn.metrics import confusion_matrix\n",
        "from mlxtend.plotting import plot_confusion_matrix\n",
        "\n",
        "%matplotlib inline\n",
        "import warnings\n",
        "warnings.filterwarnings('ignore')"
      ],
      "execution_count": null,
      "outputs": []
    },
    {
      "cell_type": "code",
      "metadata": {
        "trusted": true,
        "id": "ZGhGN3-yYWFW"
      },
      "source": [
        "# hyperparameter setting\n",
        "image_size = 224\n",
        "batch_size = 32"
      ],
      "execution_count": null,
      "outputs": []
    },
    {
      "cell_type": "code",
      "metadata": {
        "colab": {
          "base_uri": "https://localhost:8080/"
        },
        "id": "OA9u0Hzhq98k",
        "outputId": "8be9c6c5-4b10-4fd0-f8d0-c9decd43820c"
      },
      "source": [
        "import os\n",
        "c=0\n",
        "for i in os.listdir('/content/brain-tumor-classification-mri/Training/no_tumor'):\n",
        "  c+=1\n",
        "print(c)"
      ],
      "execution_count": null,
      "outputs": [
        {
          "output_type": "stream",
          "text": [
            "395\n"
          ],
          "name": "stdout"
        }
      ]
    },
    {
      "cell_type": "code",
      "metadata": {
        "colab": {
          "base_uri": "https://localhost:8080/"
        },
        "id": "upl7SdjUqWa9",
        "outputId": "7e31ed14-6ed6-4a5f-d039-4aa6327609ca"
      },
      "source": [
        "from skimage.filters import threshold_yen\n",
        "from skimage.exposure import rescale_intensity\n",
        "from skimage.filters import threshold_yen\n",
        "from skimage.io import imread, imsave\n",
        "from google.colab.patches import cv2_imshow\n",
        "import cv2\n",
        "import imutils\n",
        "#Apply AUG for NORMAL class only\n",
        "c=0\n",
        "for IM in os.listdir('/content/brain-tumor-classification-mri/Training/no_tumor/'):\n",
        "  img = cv2.imread(\"/content/brain-tumor-classification-mri/Training/no_tumor/\"+IM)\n",
        "  if c%2==0: #using different 2 aug. based on index\n",
        "    #pass\n",
        "    # Use Flip code 1 to flip horizontally \n",
        "    img = cv2.flip(img, 1) \n",
        "    alpha = 1 # Contrast control (1.0-3.0)\n",
        "    beta = 20 # Brightness control (0-100)\n",
        "    img = cv2.convertScaleAbs(img, alpha=alpha, beta=beta)\n",
        "    #cv2_imshow(img)\n",
        "    imsave(\"/content/brain-tumor-classification-mri/Training/no_tumor/\"+IM+'Aug1.jpeg', img)\n",
        "  else:\n",
        "    img = imutils.rotate(img, 20)\n",
        "    alpha = 1 # Contrast control (1.0-3.0)\n",
        "    beta = 20 # Brightness control (0-100)\n",
        "    img = cv2.convertScaleAbs(img, alpha=alpha, beta=beta)\n",
        "    imsave(\"/content/brain-tumor-classification-mri/Training/no_tumor/\"+IM+'Aug2.jpeg', img)\n",
        "  print(IM)\n",
        "  print(c)\n",
        "  c+=1"
      ],
      "execution_count": null,
      "outputs": [
        {
          "output_type": "stream",
          "text": [
            "image(287).jpg\n",
            "0\n",
            "image(239).jpg\n",
            "1\n",
            "image(43).jpg\n",
            "2\n",
            "image (57).jpg\n",
            "3\n",
            "image(7).jpg\n",
            "4\n",
            "image(159).jpg\n",
            "5\n",
            "image(190).jpg\n",
            "6\n",
            "image(288).jpg\n",
            "7\n",
            "image(229).jpg\n",
            "8\n",
            "image(187).jpg\n",
            "9\n",
            "image(59).jpg\n",
            "10\n",
            "image(234).jpg\n",
            "11\n",
            "image(9).jpg\n",
            "12\n",
            "image(325).jpg\n",
            "13\n",
            "image(46).jpg\n",
            "14\n",
            "image(129).jpg\n",
            "15\n",
            "image(160).jpg\n",
            "16\n",
            "image(246).jpg\n",
            "17\n",
            "image(219).jpg\n",
            "18\n",
            "image(212).jpg\n",
            "19\n",
            "image(308).jpg\n",
            "20\n",
            "image(115).jpg\n",
            "21\n",
            "image(145).jpg\n",
            "22\n",
            "image (55).jpg\n",
            "23\n",
            "image(263).jpg\n",
            "24\n",
            "image(61).jpg\n",
            "25\n",
            "image(81).jpg\n",
            "26\n",
            "image(117).jpg\n",
            "27\n",
            "image (21).jpg\n",
            "28\n",
            "image (36).jpg\n",
            "29\n",
            "image(126).jpg\n",
            "30\n",
            "image(34).jpg\n",
            "31\n",
            "image(313).jpg\n",
            "32\n",
            "image(172).jpg\n",
            "33\n",
            "image(280).jpg\n",
            "34\n",
            "image (56).jpg\n",
            "35\n",
            "image (33).jpg\n",
            "36\n",
            "image(23).jpg\n",
            "37\n",
            "image (43).jpg\n",
            "38\n",
            "image(204).jpg\n",
            "39\n",
            "image(84).jpg\n",
            "40\n",
            "image(320).jpg\n",
            "41\n",
            "image(12).jpg\n",
            "42\n",
            "image(210).jpg\n",
            "43\n",
            "image(78).jpg\n",
            "44\n",
            "image(51).jpg\n",
            "45\n",
            "image (45).jpg\n",
            "46\n",
            "image(136).jpg\n",
            "47\n",
            "image(39).jpg\n",
            "48\n",
            "image(284).jpg\n",
            "49\n",
            "image(192).jpg\n",
            "50\n",
            "image(119).jpg\n",
            "51\n",
            "image (16).jpg\n",
            "52\n",
            "image(156).jpg\n",
            "53\n",
            "image(221).jpg\n",
            "54\n",
            "image(157).jpg\n",
            "55\n",
            "image(154).jpg\n",
            "56\n",
            "image (62).jpg\n",
            "57\n",
            "image(237).jpg\n",
            "58\n",
            "image(268).jpg\n",
            "59\n",
            "image(32).jpg\n",
            "60\n",
            "image(193).jpg\n",
            "61\n",
            "image (44).jpg\n",
            "62\n",
            "image(164).jpg\n",
            "63\n",
            "image(11).jpg\n",
            "64\n",
            "image(103).jpg\n",
            "65\n",
            "image(232).jpg\n",
            "66\n",
            "image (61).jpg\n",
            "67\n",
            "image (58).jpg\n",
            "68\n",
            "image(241).jpg\n",
            "69\n",
            "image(249).jpg\n",
            "70\n",
            "image(324).jpg\n",
            "71\n",
            "image (22).jpg\n",
            "72\n",
            "image (26).jpg\n",
            "73\n",
            "image(25).jpg\n",
            "74\n",
            "4.jpg\n",
            "75\n",
            "image(171).jpg\n",
            "76\n",
            "image(33).jpg\n",
            "77\n",
            "image(177).jpg\n",
            "78\n",
            "image(297).jpg\n",
            "79\n",
            "image (11).jpg\n",
            "80\n",
            "image(235).jpg\n",
            "81\n",
            "image(131).jpg\n",
            "82\n",
            "image(87).jpg\n",
            "83\n",
            "image(214).jpg\n",
            "84\n",
            "image (63).jpg\n",
            "85\n",
            "image (12).jpg\n",
            "86\n",
            "image(298).jpg\n",
            "87\n",
            "image (46).jpg\n",
            "88\n",
            "image(68).jpg\n",
            "89\n",
            "image(72).jpg\n",
            "90\n",
            "image(290).jpg\n",
            "91\n",
            "image(44).jpg\n",
            "92\n",
            "image(266).jpg\n",
            "93\n",
            "image(29).jpg\n",
            "94\n",
            "image(226).jpg\n",
            "95\n",
            "image (15).jpg\n",
            "96\n",
            "image(140).jpg\n",
            "97\n",
            "image(20).jpg\n",
            "98\n",
            "image(307).jpg\n",
            "99\n",
            "image(36).jpg\n",
            "100\n",
            "image(306).jpg\n",
            "101\n",
            "image(76).jpg\n",
            "102\n",
            "image (17).jpg\n",
            "103\n",
            "image(283).jpg\n",
            "104\n",
            "image (35).jpg\n",
            "105\n",
            "6.jpg\n",
            "106\n",
            "image(264).jpg\n",
            "107\n",
            "image(28).jpg\n",
            "108\n",
            "image(142).jpg\n",
            "109\n",
            "image(155).jpg\n",
            "110\n",
            "image(194).jpg\n",
            "111\n",
            "image(80).jpg\n",
            "112\n",
            "image(161).jpg\n",
            "113\n",
            "image(128).jpg\n",
            "114\n",
            "image(273).jpg\n",
            "115\n",
            "image(2).jpg\n",
            "116\n",
            "image(282).jpg\n",
            "117\n",
            "image(233).jpg\n",
            "118\n",
            "image(285).jpg\n",
            "119\n",
            "image (53).jpg\n",
            "120\n",
            "image(14).jpg\n",
            "121\n",
            "image(213).jpg\n",
            "122\n",
            "image(85).jpg\n",
            "123\n",
            "image(224).jpg\n",
            "124\n",
            "image(198).jpg\n",
            "125\n",
            "image(167).jpg\n",
            "126\n",
            "image (14).jpg\n",
            "127\n",
            "image(318).jpg\n",
            "128\n",
            "image(13).jpg\n",
            "129\n",
            "image(48).jpg\n",
            "130\n",
            "image (64).jpg\n",
            "131\n",
            "image(138).jpg\n",
            "132\n",
            "image(62).jpg\n",
            "133\n",
            "image (9).jpg\n",
            "134\n",
            "image (50).jpg\n",
            "135\n",
            "image(180).jpg\n",
            "136\n",
            "image(185).jpg\n",
            "137\n",
            "image(132).jpg\n",
            "138\n",
            "image(1).jpg\n",
            "139\n",
            "image(55).jpg\n",
            "140\n",
            "image(22).jpg\n",
            "141\n",
            "image(227).jpg\n",
            "142\n",
            "image(124).jpg\n",
            "143\n",
            "image(301).jpg\n",
            "144\n",
            "image(256).jpg\n",
            "145\n",
            "image(118).jpg\n",
            "146\n",
            "image(74).jpg\n",
            "147\n",
            "image(24).jpg\n",
            "148\n",
            "image(82).jpg\n",
            "149\n",
            "image (29).jpg\n",
            "150\n",
            "image(203).jpg\n",
            "151\n",
            "image(197).jpg\n",
            "152\n",
            "image(90).jpg\n",
            "153\n",
            "image(243).jpg\n",
            "154\n",
            "image (28).jpg\n",
            "155\n",
            "image(262).jpg\n",
            "156\n",
            "image(83).jpg\n",
            "157\n",
            "image(73).jpg\n",
            "158\n",
            "image(17).jpg\n",
            "159\n",
            "image(107).jpg\n",
            "160\n",
            "image (19).jpg\n",
            "161\n",
            "image(26).jpg\n",
            "162\n",
            "image(323).jpg\n",
            "163\n",
            "image(176).jpg\n",
            "164\n",
            "image(3).jpg\n",
            "165\n",
            "image (37).jpg\n",
            "166\n",
            "image (38).jpg\n",
            "167\n",
            "image(202).jpg\n",
            "168\n",
            "image(95).jpg\n",
            "169\n",
            "image(149).jpg\n",
            "170\n",
            "image(40).jpg\n",
            "171\n",
            "image (39).jpg\n",
            "172\n",
            "image(173).jpg\n",
            "173\n",
            "image(91).jpg\n",
            "174\n",
            "image (23).jpg\n",
            "175\n",
            "image(120).jpg\n",
            "176\n",
            "image(174).jpg\n",
            "177\n",
            "image(86).jpg\n",
            "178\n",
            "image(105).jpg\n",
            "179\n",
            "image(16).jpg\n",
            "180\n",
            "image(278).jpg\n",
            "181\n",
            "image(295).jpg\n",
            "182\n",
            "image(125).jpg\n",
            "183\n",
            "image(30).jpg\n",
            "184\n",
            "image (48).jpg\n",
            "185\n",
            "image(271).jpg\n",
            "186\n",
            "image(65).jpg\n",
            "187\n",
            "image(302).jpg\n",
            "188\n",
            "image(147).jpg\n",
            "189\n",
            "image(316).jpg\n",
            "190\n",
            "image (6).jpg\n",
            "191\n",
            "image(184).jpg\n",
            "192\n",
            "image(64).jpg\n",
            "193\n",
            "image(179).jpg\n",
            "194\n",
            "image(211).jpg\n",
            "195\n",
            "image(217).jpg\n",
            "196\n",
            "image(56).jpg\n",
            "197\n",
            "image(112).jpg\n",
            "198\n",
            "image(79).jpg\n",
            "199\n",
            "image(274).jpg\n",
            "200\n",
            "image(245).jpg\n",
            "201\n",
            "image(294).jpg\n",
            "202\n",
            "image (27).jpg\n",
            "203\n",
            "8.jpg\n",
            "204\n",
            "image.jpg\n",
            "205\n",
            "image(106).jpg\n",
            "206\n",
            "image(238).jpg\n",
            "207\n",
            "image (41).jpg\n",
            "208\n",
            "image(67).jpg\n",
            "209\n",
            "image (4).jpg\n",
            "210\n",
            "image(209).jpg\n",
            "211\n",
            "image(150).jpg\n",
            "212\n",
            "image(286).jpg\n",
            "213\n",
            "image(279).jpg\n",
            "214\n",
            "image(57).jpg\n",
            "215\n",
            "image(75).jpg\n",
            "216\n",
            "image (59).jpg\n",
            "217\n",
            "image (51).jpg\n",
            "218\n",
            "image (8).jpg\n",
            "219\n",
            "image(327).jpg\n",
            "220\n",
            "image (47).jpg\n",
            "221\n",
            "image(304).jpg\n",
            "222\n",
            "image (40).jpg\n",
            "223\n",
            "image(206).jpg\n",
            "224\n",
            "image(260).jpg\n",
            "225\n",
            "image(252).jpg\n",
            "226\n",
            "image(54).jpg\n",
            "227\n",
            "image(186).jpg\n",
            "228\n",
            "image(303).jpg\n",
            "229\n",
            "image(326).jpg\n",
            "230\n",
            "image(63).jpg\n",
            "231\n",
            "image(292).jpg\n",
            "232\n",
            "image(300).jpg\n",
            "233\n",
            "image(222).jpg\n",
            "234\n",
            "image(71).jpg\n",
            "235\n",
            "image(104).jpg\n",
            "236\n",
            "image(199).jpg\n",
            "237\n",
            "image(114).jpg\n",
            "238\n",
            "image(50).jpg\n",
            "239\n",
            "image(162).jpg\n",
            "240\n",
            "image(37).jpg\n",
            "241\n",
            "image(99).jpg\n",
            "242\n",
            "image(248).jpg\n",
            "243\n",
            "image(270).jpg\n",
            "244\n",
            "image(207).jpg\n",
            "245\n",
            "image(236).jpg\n",
            "246\n",
            "image (25).jpg\n",
            "247\n",
            "image(113).jpg\n",
            "248\n",
            "image(52).jpg\n",
            "249\n",
            "image(269).jpg\n",
            "250\n",
            "image(289).jpg\n",
            "251\n",
            "image(66).jpg\n",
            "252\n",
            "image(146).jpg\n",
            "253\n",
            "image(317).jpg\n",
            "254\n",
            "image(299).jpg\n",
            "255\n",
            "image(41).jpg\n",
            "256\n",
            "image(321).jpg\n",
            "257\n",
            "image(70).jpg\n",
            "258\n",
            "image(181).jpg\n",
            "259\n",
            "image(254).jpg\n",
            "260\n",
            "image(100).jpg\n",
            "261\n",
            "image(58).jpg\n",
            "262\n",
            "image(139).jpg\n",
            "263\n",
            "image(182).jpg\n",
            "264\n",
            "image (18).jpg\n",
            "265\n",
            "image(6).jpg\n",
            "266\n",
            "image(4).jpg\n",
            "267\n",
            "image(137).jpg\n",
            "268\n",
            "image(89).jpg\n",
            "269\n",
            "image(223).jpg\n",
            "270\n",
            "image(189).jpg\n",
            "271\n",
            "image(141).jpg\n",
            "272\n",
            "image(60).jpg\n",
            "273\n",
            "image(259).jpg\n",
            "274\n",
            "image(201).jpg\n",
            "275\n",
            "image(116).jpg\n",
            "276\n",
            "image(110).jpg\n",
            "277\n",
            "image(169).jpg\n",
            "278\n",
            "image (34).jpg\n",
            "279\n",
            "image(53).jpg\n",
            "280\n",
            "image(275).jpg\n",
            "281\n",
            "image(21).jpg\n",
            "282\n",
            "image(218).jpg\n",
            "283\n",
            "image(45).jpg\n",
            "284\n",
            "image(291).jpg\n",
            "285\n",
            "image(276).jpg\n",
            "286\n",
            "image (32).jpg\n",
            "287\n",
            "image(92).jpg\n",
            "288\n",
            "image(305).jpg\n",
            "289\n",
            "image(96).jpg\n",
            "290\n",
            "image(296).jpg\n",
            "291\n",
            "image(258).jpg\n",
            "292\n",
            "image(265).jpg\n",
            "293\n",
            "image (7).jpg\n",
            "294\n",
            "image (10).jpg\n",
            "295\n",
            "image(242).jpg\n",
            "296\n",
            "image (30).jpg\n",
            "297\n",
            "image(312).jpg\n",
            "298\n",
            "image(170).jpg\n",
            "299\n",
            "image(257).jpg\n",
            "300\n",
            "image(88).jpg\n",
            "301\n",
            "image(98).jpg\n",
            "302\n",
            "image(200).jpg\n",
            "303\n",
            "image(208).jpg\n",
            "304\n",
            "image(5).jpg\n",
            "305\n",
            "image (20).jpg\n",
            "306\n",
            "image(93).jpg\n",
            "307\n",
            "image(135).jpg\n",
            "308\n",
            "image(231).jpg\n",
            "309\n",
            "image(261).jpg\n",
            "310\n",
            "image(143).jpg\n",
            "311\n",
            "image(168).jpg\n",
            "312\n",
            "image(101).jpg\n",
            "313\n",
            "image(166).jpg\n",
            "314\n",
            "image(178).jpg\n",
            "315\n",
            "image(230).jpg\n",
            "316\n",
            "image(310).jpg\n",
            "317\n",
            "image(102).jpg\n",
            "318\n",
            "image(38).jpg\n",
            "319\n",
            "image(49).jpg\n",
            "320\n",
            "image(315).jpg\n",
            "321\n",
            "5.jpg\n",
            "322\n",
            "image(77).jpg\n",
            "323\n",
            "image(31).jpg\n",
            "324\n",
            "image(215).jpg\n",
            "325\n",
            "image(152).jpg\n",
            "326\n",
            "image(127).jpg\n",
            "327\n",
            "image (31).jpg\n",
            "328\n",
            "image(191).jpg\n",
            "329\n",
            "image(19).jpg\n",
            "330\n",
            "image(314).jpg\n",
            "331\n",
            "image(228).jpg\n",
            "332\n",
            "image(175).jpg\n",
            "333\n",
            "image(35).jpg\n",
            "334\n",
            "image(10).jpg\n",
            "335\n",
            "image(121).jpg\n",
            "336\n",
            "image(195).jpg\n",
            "337\n",
            "image(27).jpg\n",
            "338\n",
            "image(144).jpg\n",
            "339\n",
            "image(255).jpg\n",
            "340\n",
            "image(220).jpg\n",
            "341\n",
            "image (5).jpg\n",
            "342\n",
            "image(8).jpg\n",
            "343\n",
            "image(225).jpg\n",
            "344\n",
            "image(94).jpg\n",
            "345\n",
            "image(247).jpg\n",
            "346\n",
            "image(216).jpg\n",
            "347\n",
            "image (42).jpg\n",
            "348\n",
            "image(311).jpg\n",
            "349\n",
            "1.jpg\n",
            "350\n",
            "image(130).jpg\n",
            "351\n",
            "image(158).jpg\n",
            "352\n",
            "image(47).jpg\n",
            "353\n",
            "image(188).jpg\n",
            "354\n",
            "image(319).jpg\n",
            "355\n",
            "2.jpg\n",
            "356\n",
            "image (60).jpg\n",
            "357\n",
            "image(153).jpg\n",
            "358\n",
            "image (52).jpg\n",
            "359\n",
            "image(148).jpg\n",
            "360\n",
            "image(123).jpg\n",
            "361\n",
            "image(163).jpg\n",
            "362\n",
            "image(133).jpg\n",
            "363\n",
            "image(309).jpg\n",
            "364\n",
            "image(134).jpg\n",
            "365\n",
            "image (13).jpg\n",
            "366\n",
            "image(250).jpg\n",
            "367\n",
            "image (54).jpg\n",
            "368\n",
            "image(42).jpg\n",
            "369\n",
            "image(122).jpg\n",
            "370\n",
            "image(18).jpg\n",
            "371\n",
            "image(272).jpg\n",
            "372\n",
            "image(267).jpg\n",
            "373\n",
            "image(240).jpg\n",
            "374\n",
            "image(196).jpg\n",
            "375\n",
            "image(151).jpg\n",
            "376\n",
            "image(111).jpg\n",
            "377\n",
            "image(253).jpg\n",
            "378\n",
            "image(244).jpg\n",
            "379\n",
            "image(183).jpg\n",
            "380\n",
            "image(293).jpg\n",
            "381\n",
            "image(281).jpg\n",
            "382\n",
            "image(251).jpg\n",
            "383\n",
            "image(15).jpg\n",
            "384\n",
            "3.jpg\n",
            "385\n",
            "image(277).jpg\n",
            "386\n",
            "image (49).jpg\n",
            "387\n",
            "image(322).jpg\n",
            "388\n",
            "image(205).jpg\n",
            "389\n",
            "image(108).jpg\n",
            "390\n",
            "image(69).jpg\n",
            "391\n",
            "7.jpg\n",
            "392\n",
            "image(165).jpg\n",
            "393\n",
            "image (24).jpg\n",
            "394\n"
          ],
          "name": "stdout"
        }
      ]
    },
    {
      "cell_type": "code",
      "metadata": {
        "trusted": true,
        "colab": {
          "base_uri": "https://localhost:8080/"
        },
        "id": "h4z1tFxmYWFX",
        "outputId": "e726b596-c8fd-4a1b-e2df-f0a1dcc7991c"
      },
      "source": [
        "# input files\n",
        "base_dir=\"/content/drive/MyDrive/brain-tumor-classification-mri\"\n",
        "\n",
        "glioma_tumor = glob.glob(base_dir + '/**/glioma_tumor/*')\n",
        "meningioma_tumor = glob.glob(base_dir + '/**/meningioma_tumor/*')\n",
        "pituitary_tumor = glob.glob(base_dir + '/**/pituitary_tumor/*')\n",
        "normal = glob.glob(base_dir + '/**/no_tumor/*')\n",
        "\n",
        "print(\"glioma_tumor : {}\".format(len(glioma_tumor)))\n",
        "print(\"meningioma_tumor : {}\".format(len(meningioma_tumor)))\n",
        "print(\"pituitary_tumor : {}\".format(len(pituitary_tumor)))\n",
        "print(\"normal : {}\".format(len(normal)))"
      ],
      "execution_count": null,
      "outputs": [
        {
          "output_type": "stream",
          "text": [
            "glioma_tumor : 926\n",
            "meningioma_tumor : 937\n",
            "pituitary_tumor : 901\n",
            "normal : 895\n"
          ],
          "name": "stdout"
        }
      ]
    },
    {
      "cell_type": "code",
      "metadata": {
        "trusted": true,
        "colab": {
          "base_uri": "https://localhost:8080/"
        },
        "id": "ePxNY168YWFc",
        "outputId": "50734e2b-31c1-41ac-99c7-006ac20a88ea"
      },
      "source": [
        "# add labels\n",
        "def add_labels(data, label):\n",
        "    return list(map(lambda x: (x, label), data))\n",
        "\n",
        "glioma_tumor = add_labels(glioma_tumor, 'glioma')\n",
        "meningioma_tumor = add_labels(meningioma_tumor, 'meningioma')\n",
        "pituitary_tumor = add_labels(pituitary_tumor, 'pituitary')\n",
        "normal = add_labels(normal, 'normal')\n",
        "\n",
        "print(glioma_tumor[0])\n",
        "print(meningioma_tumor[0])\n",
        "print(pituitary_tumor[0])\n",
        "print(normal[0])"
      ],
      "execution_count": null,
      "outputs": [
        {
          "output_type": "stream",
          "text": [
            "('/content/drive/MyDrive/brain-tumor-classification-mri/Testing/glioma_tumor/image(66).jpg', 'glioma')\n",
            "('/content/drive/MyDrive/brain-tumor-classification-mri/Testing/meningioma_tumor/image(42).jpg', 'meningioma')\n",
            "('/content/drive/MyDrive/brain-tumor-classification-mri/Testing/pituitary_tumor/image(10).jpg', 'pituitary')\n",
            "('/content/drive/MyDrive/brain-tumor-classification-mri/Testing/no_tumor/image(98).jpg', 'normal')\n"
          ],
          "name": "stdout"
        }
      ]
    },
    {
      "cell_type": "code",
      "metadata": {
        "trusted": true,
        "id": "1Od0CvB8YWFe"
      },
      "source": [
        "# split the data\n",
        "def split_data(data):\n",
        "    train_data, test_data = train_test_split(data, test_size=0.15)\n",
        "    train_data, val_data = train_test_split(train_data, test_size=0.15)\n",
        "    return [train_data, val_data, test_data]\n",
        "\n",
        "glioma_data = split_data(glioma_tumor)\n",
        "meningioma_data = split_data(meningioma_tumor)\n",
        "pituitary_data = split_data(pituitary_tumor)\n",
        "normal_data = split_data(normal)"
      ],
      "execution_count": null,
      "outputs": []
    },
    {
      "cell_type": "code",
      "metadata": {
        "trusted": true,
        "colab": {
          "base_uri": "https://localhost:8080/"
        },
        "id": "eeNQkQkRYWFf",
        "outputId": "02ae6d33-903f-4203-ced7-f9b0a882c882"
      },
      "source": [
        "# collect data\n",
        "train_data = []\n",
        "val_data = []\n",
        "test_data = []\n",
        "\n",
        "def collect(data):\n",
        "    global train_data, val_data, test_data\n",
        "    for sample in data[0]:\n",
        "        train_data.append(sample)\n",
        "    \n",
        "    for sample in data[1]:\n",
        "        val_data.append(sample)\n",
        "        \n",
        "    for sample in data[2]:\n",
        "        test_data.append(sample)\n",
        "\n",
        "collect(glioma_data)\n",
        "collect(meningioma_data)\n",
        "collect(pituitary_data)\n",
        "collect(normal_data)\n",
        "    \n",
        "# convert them into dataframes\n",
        "train_df = pd.DataFrame(train_data, columns=['image', 'label'])\n",
        "val_df = pd.DataFrame(val_data, columns=['image', 'label'])\n",
        "test_df = pd.DataFrame(test_data, columns=['image', 'label'])\n",
        "\n",
        "print(len(train_df), len(val_df), len(test_df))"
      ],
      "execution_count": null,
      "outputs": [
        {
          "output_type": "stream",
          "text": [
            "2640 468 551\n"
          ],
          "name": "stdout"
        }
      ]
    },
    {
      "cell_type": "code",
      "metadata": {
        "trusted": true,
        "colab": {
          "base_uri": "https://localhost:8080/"
        },
        "id": "1844DHiWYWFj",
        "outputId": "66c83101-d797-44f2-d8f4-0cc192c4e6a5"
      },
      "source": [
        "# data augmentation (train)\n",
        "train_gen = ImageDataGenerator(rescale=1./255,\n",
        "                               rotation_range=10,\n",
        "                               zoom_range = 0.1,\n",
        "                               shear_range=0.1,\n",
        "                               width_shift_range=0.1,\n",
        "                               height_shift_range=0.1,\n",
        "                               horizontal_flip=True)\n",
        "\n",
        "train_set = train_gen.flow_from_dataframe(dataframe=train_df,\n",
        "                                          x_col='image',\n",
        "                                          y_col='label',\n",
        "                                          target_size=(image_size, image_size),\n",
        "                                          batch_size=batch_size,\n",
        "                                          shuffle=True,\n",
        "                                          class_mode='categorical',\n",
        "                                          color_mode='rgb' )\n",
        "\n",
        "# rescaling (validation)\n",
        "val_rescaled = ImageDataGenerator(rescale = 1./255)\n",
        "\n",
        "val_set = val_rescaled.flow_from_dataframe(dataframe=val_df,\n",
        "                                           x_col='image',\n",
        "                                           y_col='label',\n",
        "                                           target_size=(image_size, image_size),\n",
        "                                           batch_size=batch_size,\n",
        "                                           shuffle=True,\n",
        "                                           class_mode='categorical',\n",
        "                                           color_mode='rgb')\n",
        "\n",
        "# rescaling (test)\n",
        "test_rescaled = ImageDataGenerator(rescale = 1./255)\n",
        "\n",
        "test_set = test_rescaled.flow_from_dataframe(dataframe=test_df,\n",
        "                                             x_col='image',\n",
        "                                             y_col='label',\n",
        "                                             target_size=(image_size, image_size),\n",
        "                                             batch_size=1,\n",
        "                                             shuffle=False,\n",
        "                                             class_mode='categorical',\n",
        "                                             color_mode='rgb')"
      ],
      "execution_count": null,
      "outputs": [
        {
          "output_type": "stream",
          "text": [
            "Found 2640 validated image filenames belonging to 4 classes.\n",
            "Found 468 validated image filenames belonging to 4 classes.\n",
            "Found 551 validated image filenames belonging to 4 classes.\n"
          ],
          "name": "stdout"
        }
      ]
    },
    {
      "cell_type": "code",
      "metadata": {
        "id": "SUykedlCaTFn"
      },
      "source": [
        "import glob\n",
        "import h5py\n",
        "import shutil\n",
        "import imgaug as aug\n",
        "import numpy as np\n",
        "import pandas as pd \n",
        "import seaborn as sns\n",
        "import matplotlib.pyplot as plt\n",
        "import matplotlib.image as mimg\n",
        "import imgaug.augmenters as iaa\n",
        "from os import listdir, makedirs, getcwd, remove\n",
        "from os.path import isfile, join, abspath, exists, isdir, expanduser\n",
        "from PIL import Image\n",
        "from pathlib import Path\n",
        "from skimage.io import imread\n",
        "from skimage.transform import resize\n",
        "from keras.models import Sequential, Model\n",
        "from keras.applications.vgg16 import VGG16, preprocess_input\n",
        "from keras.preprocessing.image import ImageDataGenerator,load_img, img_to_array\n",
        "from keras.models import Sequential\n",
        "from keras.layers import Conv2D, MaxPooling2D, Dense, Dropout, Input, Flatten, SeparableConv2D\n",
        "from keras.layers import GlobalMaxPooling2D\n",
        "from keras.layers.normalization import BatchNormalization\n",
        "from keras.layers.merge import Concatenate\n",
        "from keras.models import Model\n",
        "from keras.optimizers import Adam, SGD, RMSprop\n",
        "from keras.callbacks import ModelCheckpoint, Callback, EarlyStopping\n",
        "from keras.utils import to_categorical\n",
        "from sklearn.model_selection import train_test_split\n",
        "from sklearn.preprocessing import StandardScaler\n",
        "from mlxtend.plotting import plot_confusion_matrix\n",
        "from sklearn.metrics import confusion_matrix\n",
        "from keras.applications import VGG19\n",
        "from keras import applications\n",
        "from keras.layers import Conv2D, MaxPooling2D, BatchNormalization, GlobalAveragePooling2D\n",
        "from keras.layers import Activation, Dropout, Flatten, Dense\n",
        "from keras.optimizers import RMSprop, SGD\n",
        "from keras.models import Model, Sequential\n",
        "import matplotlib.pyplot as plt\n",
        "from keras.layers import Input\n",
        "from keras import models\n",
        "from keras import layers\n",
        "from keras import optimizers\n",
        "from keras.preprocessing import image\n",
        "from tensorflow.python.keras import regularizers\n",
        "from keras.callbacks import ModelCheckpoint, Callback, EarlyStopping"
      ],
      "execution_count": null,
      "outputs": []
    },
    {
      "cell_type": "code",
      "metadata": {
        "trusted": true,
        "colab": {
          "base_uri": "https://localhost:8080/"
        },
        "id": "fTg2unI5YWFl",
        "outputId": "ed8c6084-84ef-477c-d7d0-7dc02e42a092"
      },
      "source": [
        "\n",
        "input_tensor = Input(shape=(224, 224, 3))\n",
        "vgg_conv = VGG19(weights='imagenet',\n",
        "                               include_top=False,\n",
        "                               input_tensor=input_tensor)\n",
        "# Freeze the layers except the last 2 layers\n",
        "for layer in vgg_conv.layers[:-2]:\n",
        "    layer.trainable = False\n",
        " \n",
        "# Check the trainable status of the individual layers\n",
        "for layer in vgg_conv.layers:\n",
        "    print(layer, layer.trainable)\n",
        "\n",
        "# Create the model\n",
        "model = models.Sequential()\n",
        "# Add the vgg convolutional base model\n",
        "model.add(vgg_conv)\n",
        "model.add(layers.Dropout(0.5))\n",
        "model.add(SeparableConv2D(128, (3,3), activation='relu', padding='same'))\n",
        "model.add(SeparableConv2D(128, (3,3), activation='relu', padding='same'))\n",
        "model.add(MaxPooling2D((2,2)))\n",
        "model.add(SeparableConv2D(64, (5,5), activation='relu', padding='same'))\n",
        "model.add(MaxPooling2D((2,2)))\n",
        "\n",
        "model.add(Flatten())\n",
        "model.add(Dense(512, activation='relu'))\n",
        "model.add(Dropout(0.5))\n",
        "model.add(Dense(4, activation='softmax'))\n"
      ],
      "execution_count": null,
      "outputs": [
        {
          "output_type": "stream",
          "text": [
            "Downloading data from https://storage.googleapis.com/tensorflow/keras-applications/vgg19/vgg19_weights_tf_dim_ordering_tf_kernels_notop.h5\n",
            "80142336/80134624 [==============================] - 1s 0us/step\n",
            "<tensorflow.python.keras.engine.input_layer.InputLayer object at 0x7f389306fe10> False\n",
            "<tensorflow.python.keras.layers.convolutional.Conv2D object at 0x7f3896fd83d0> False\n",
            "<tensorflow.python.keras.layers.convolutional.Conv2D object at 0x7f3896b5d810> False\n",
            "<tensorflow.python.keras.layers.pooling.MaxPooling2D object at 0x7f389063ad10> False\n",
            "<tensorflow.python.keras.layers.convolutional.Conv2D object at 0x7f389063b590> False\n",
            "<tensorflow.python.keras.layers.convolutional.Conv2D object at 0x7f38927a5c50> False\n",
            "<tensorflow.python.keras.layers.pooling.MaxPooling2D object at 0x7f38927a5350> False\n",
            "<tensorflow.python.keras.layers.convolutional.Conv2D object at 0x7f389063b2d0> False\n",
            "<tensorflow.python.keras.layers.convolutional.Conv2D object at 0x7f3890647f50> False\n",
            "<tensorflow.python.keras.layers.convolutional.Conv2D object at 0x7f3890653a10> False\n",
            "<tensorflow.python.keras.layers.convolutional.Conv2D object at 0x7f389063add0> False\n",
            "<tensorflow.python.keras.layers.pooling.MaxPooling2D object at 0x7f389065edd0> False\n",
            "<tensorflow.python.keras.layers.convolutional.Conv2D object at 0x7f38905e6ed0> False\n",
            "<tensorflow.python.keras.layers.convolutional.Conv2D object at 0x7f38905e6a10> False\n",
            "<tensorflow.python.keras.layers.convolutional.Conv2D object at 0x7f3890647d90> False\n",
            "<tensorflow.python.keras.layers.convolutional.Conv2D object at 0x7f38905f1c50> False\n",
            "<tensorflow.python.keras.layers.pooling.MaxPooling2D object at 0x7f38905f1c10> False\n",
            "<tensorflow.python.keras.layers.convolutional.Conv2D object at 0x7f389065aa90> False\n",
            "<tensorflow.python.keras.layers.convolutional.Conv2D object at 0x7f3890600dd0> False\n",
            "<tensorflow.python.keras.layers.convolutional.Conv2D object at 0x7f3890608d90> False\n",
            "<tensorflow.python.keras.layers.convolutional.Conv2D object at 0x7f38905ebbd0> True\n",
            "<tensorflow.python.keras.layers.pooling.MaxPooling2D object at 0x7f3890608b10> True\n"
          ],
          "name": "stdout"
        }
      ]
    },
    {
      "cell_type": "code",
      "metadata": {
        "trusted": true,
        "colab": {
          "base_uri": "https://localhost:8080/"
        },
        "id": "9aQpKLMCYWFm",
        "outputId": "8484eb2b-dce5-4968-d53d-6335af0a345f"
      },
      "source": [
        "# model configuration\n",
        "model.compile(optimizer=Adam(lr=0.001, beta_1=0.9, beta_2=0.999),\n",
        "              loss='categorical_crossentropy',\n",
        "              metrics=['accuracy'])\n",
        "\n",
        "es = EarlyStopping(monitor='val_loss', \n",
        "                   patience=8, \n",
        "                   restore_best_weights=True)\n",
        "\n",
        "# lr_reduction = ReduceLROnPlateau(monitor='val_accuracy', \n",
        "#                                  patience = 4, \n",
        "#                                  verbose=1,\n",
        "#                                  factor=0.5, \n",
        "#                                  min_lr=0.00005)\n",
        "\n",
        "model.summary()"
      ],
      "execution_count": null,
      "outputs": [
        {
          "output_type": "stream",
          "text": [
            "Model: \"sequential\"\n",
            "_________________________________________________________________\n",
            "Layer (type)                 Output Shape              Param #   \n",
            "=================================================================\n",
            "vgg19 (Functional)           (None, 7, 7, 512)         20024384  \n",
            "_________________________________________________________________\n",
            "dropout (Dropout)            (None, 7, 7, 512)         0         \n",
            "_________________________________________________________________\n",
            "separable_conv2d (SeparableC (None, 7, 7, 128)         70272     \n",
            "_________________________________________________________________\n",
            "separable_conv2d_1 (Separabl (None, 7, 7, 128)         17664     \n",
            "_________________________________________________________________\n",
            "max_pooling2d (MaxPooling2D) (None, 3, 3, 128)         0         \n",
            "_________________________________________________________________\n",
            "separable_conv2d_2 (Separabl (None, 3, 3, 64)          11456     \n",
            "_________________________________________________________________\n",
            "max_pooling2d_1 (MaxPooling2 (None, 1, 1, 64)          0         \n",
            "_________________________________________________________________\n",
            "flatten (Flatten)            (None, 64)                0         \n",
            "_________________________________________________________________\n",
            "dense (Dense)                (None, 512)               33280     \n",
            "_________________________________________________________________\n",
            "dropout_1 (Dropout)          (None, 512)               0         \n",
            "_________________________________________________________________\n",
            "dense_1 (Dense)              (None, 4)                 2052      \n",
            "=================================================================\n",
            "Total params: 20,159,108\n",
            "Trainable params: 2,494,532\n",
            "Non-trainable params: 17,664,576\n",
            "_________________________________________________________________\n"
          ],
          "name": "stdout"
        }
      ]
    },
    {
      "cell_type": "code",
      "metadata": {
        "trusted": true,
        "colab": {
          "base_uri": "https://localhost:8080/"
        },
        "id": "99tHlH-ZYWFo",
        "outputId": "54de0e3c-1658-4ea5-f065-b4881bd17c1e"
      },
      "source": [
        "history = model.fit_generator(train_set,\n",
        "                              steps_per_epoch=len(train_set),\n",
        "                              epochs=15,\n",
        "                              validation_data=val_set,\n",
        "                              validation_steps=len(val_set),\n",
        "                              callbacks=[es]) "
      ],
      "execution_count": null,
      "outputs": [
        {
          "output_type": "stream",
          "text": [
            "Epoch 1/15\n",
            "83/83 [==============================] - 104s 767ms/step - loss: 1.3667 - accuracy: 0.2862 - val_loss: 1.0605 - val_accuracy: 0.5214\n",
            "Epoch 2/15\n",
            "83/83 [==============================] - 51s 612ms/step - loss: 1.0251 - accuracy: 0.5265 - val_loss: 0.8079 - val_accuracy: 0.6645\n",
            "Epoch 3/15\n",
            "83/83 [==============================] - 51s 612ms/step - loss: 0.8766 - accuracy: 0.6032 - val_loss: 0.7547 - val_accuracy: 0.6944\n",
            "Epoch 4/15\n",
            "83/83 [==============================] - 51s 617ms/step - loss: 0.7027 - accuracy: 0.6884 - val_loss: 0.6910 - val_accuracy: 0.7115\n",
            "Epoch 5/15\n",
            "83/83 [==============================] - 51s 612ms/step - loss: 0.6191 - accuracy: 0.7321 - val_loss: 0.5876 - val_accuracy: 0.7927\n",
            "Epoch 6/15\n",
            "83/83 [==============================] - 51s 616ms/step - loss: 0.5285 - accuracy: 0.7897 - val_loss: 0.4509 - val_accuracy: 0.8269\n",
            "Epoch 7/15\n",
            "83/83 [==============================] - 51s 613ms/step - loss: 0.4130 - accuracy: 0.8384 - val_loss: 0.4751 - val_accuracy: 0.8162\n",
            "Epoch 8/15\n",
            "83/83 [==============================] - 51s 609ms/step - loss: 0.4117 - accuracy: 0.8458 - val_loss: 0.3908 - val_accuracy: 0.8590\n",
            "Epoch 9/15\n",
            "83/83 [==============================] - 51s 608ms/step - loss: 0.3847 - accuracy: 0.8585 - val_loss: 0.3525 - val_accuracy: 0.8803\n",
            "Epoch 10/15\n",
            "83/83 [==============================] - 51s 615ms/step - loss: 0.3371 - accuracy: 0.8811 - val_loss: 0.3493 - val_accuracy: 0.8825\n",
            "Epoch 11/15\n",
            "83/83 [==============================] - 51s 611ms/step - loss: 0.3306 - accuracy: 0.8740 - val_loss: 0.3175 - val_accuracy: 0.8868\n",
            "Epoch 12/15\n",
            "83/83 [==============================] - 51s 611ms/step - loss: 0.2765 - accuracy: 0.8986 - val_loss: 0.3060 - val_accuracy: 0.8932\n",
            "Epoch 13/15\n",
            "83/83 [==============================] - 51s 609ms/step - loss: 0.3061 - accuracy: 0.8877 - val_loss: 0.3003 - val_accuracy: 0.8953\n",
            "Epoch 14/15\n",
            "83/83 [==============================] - 50s 605ms/step - loss: 0.2868 - accuracy: 0.8900 - val_loss: 0.4962 - val_accuracy: 0.8291\n",
            "Epoch 15/15\n",
            "83/83 [==============================] - 50s 599ms/step - loss: 0.2904 - accuracy: 0.8986 - val_loss: 0.2679 - val_accuracy: 0.8953\n"
          ],
          "name": "stdout"
        }
      ]
    },
    {
      "cell_type": "code",
      "metadata": {
        "id": "va9tWRT3xhIG"
      },
      "source": [
        "model.save('BrainTumorClassification.h5')"
      ],
      "execution_count": null,
      "outputs": []
    },
    {
      "cell_type": "code",
      "metadata": {
        "id": "j59MDwsNxum9"
      },
      "source": [
        "model.save_weights('BrainTumorWeights.h5')"
      ],
      "execution_count": null,
      "outputs": []
    },
    {
      "cell_type": "code",
      "metadata": {
        "trusted": true,
        "colab": {
          "base_uri": "https://localhost:8080/",
          "height": 360
        },
        "id": "oPUOCMupYWFq",
        "outputId": "3e295be5-791b-4e6a-dea7-4b76ad0a6b51"
      },
      "source": [
        "# plot the accuracy and loss of the model\n",
        "fig, ax = plt.subplots(1, 2, figsize=(10, 5))\n",
        "\n",
        "for i, e in enumerate(['accuracy', 'loss']):\n",
        "    ax[i].plot(history.history[e])\n",
        "    ax[i].plot(history.history['val_' + e])\n",
        "    ax[i].set_title(e, fontsize=20)\n",
        "    ax[i].set_xlabel('epochs', fontsize=15)\n",
        "    ax[i].set_ylabel(e, fontsize=15)\n",
        "    ax[i].legend(['train', 'val'])"
      ],
      "execution_count": null,
      "outputs": [
        {
          "output_type": "display_data",
          "data": {
            "image/png": "[encoded data removed]",
            "text/plain": [
              "<Figure size 720x360 with 2 Axes>"
            ]
          },
          "metadata": {
            "tags": [],
            "needs_background": "light"
          }
        }
      ]
    },
    {
      "cell_type": "code",
      "metadata": {
        "id": "cuP9ma5Cx8KG"
      },
      "source": [
        "from tensorflow import keras\n",
        "model= keras.models.load_model('/content/drive/MyDrive/brainTumorClassification/BrainTumorClassification.h5')"
      ],
      "execution_count": null,
      "outputs": []
    },
    {
      "cell_type": "code",
      "metadata": {
        "trusted": true,
        "id": "O6AfLy60YWFq"
      },
      "source": [
        "# test the model\n",
        "predictions = model.predict_classes(test_set)\n",
        "\n",
        "cm = confusion_matrix(test_set.classes, predictions)"
      ],
      "execution_count": null,
      "outputs": []
    },
    {
      "cell_type": "code",
      "metadata": {
        "colab": {
          "base_uri": "https://localhost:8080/",
          "height": 522
        },
        "id": "0QFKc6sP0bVp",
        "outputId": "50e14efc-f0a1-4108-e54f-1eb49acfa828"
      },
      "source": [
        "plt.figure()\n",
        "plot_confusion_matrix(cm,figsize=(12,8), hide_ticks=True, cmap=plt.cm.BuPu)\n",
        "plt.xticks(range(4), ['Glioma','Meningioma','Pituitary', 'Normal'], fontsize=18)\n",
        "plt.yticks(range(4), ['Glioma','Meningioma','Pituitary', 'Normal'], fontsize=18)\n",
        "plt.show()"
      ],
      "execution_count": null,
      "outputs": [
        {
          "output_type": "display_data",
          "data": {
            "text/plain": [
              "<Figure size 432x288 with 0 Axes>"
            ]
          },
          "metadata": {
            "tags": []
          }
        },
        {
          "output_type": "display_data",
          "data": {
            "image/png": "[encoded data removed]",
            "text/plain": [
              "<Figure size 864x576 with 1 Axes>"
            ]
          },
          "metadata": {
            "tags": [],
            "needs_background": "light"
          }
        }
      ]
    },
    {
      "cell_type": "code",
      "metadata": {
        "trusted": true,
        "colab": {
          "base_uri": "https://localhost:8080/"
        },
        "id": "aOTit2e2YWFs",
        "outputId": "f1a5c9a8-161c-444e-b764-7363a6676515"
      },
      "source": [
        "test_accuracy = (cm[0, 0] + cm[1, 1] + cm[2,2] + cm[3,3]) / len(test_set)\n",
        "print(\"Test Accuracy: {}%\".format(round(test_accuracy * 100, 3)))"
      ],
      "execution_count": null,
      "outputs": [
        {
          "output_type": "stream",
          "text": [
            "Test Accuracy: 90.926%\n"
          ],
          "name": "stdout"
        }
      ]
    },
    {
      "cell_type": "code",
      "metadata": {
        "colab": {
          "base_uri": "https://localhost:8080/"
        },
        "id": "DaLcayCjzUOx",
        "outputId": "b7640792-ff11-4d49-8a44-538f8e303898"
      },
      "source": [
        "from google.colab import drive\n",
        "drive.mount('/content/drive')"
      ],
      "execution_count": null,
      "outputs": [
        {
          "output_type": "stream",
          "text": [
            "Mounted at /content/drive\n"
          ],
          "name": "stdout"
        }
      ]
    },
    {
      "cell_type": "code",
      "metadata": {
        "id": "Q9_gAJ990JAK"
      },
      "source": [
        "model.save('/content/drive/MyDrive/brainTumorClassification/BrainTumorClassification.h5')"
      ],
      "execution_count": null,
      "outputs": []
    },
    {
      "cell_type": "code",
      "metadata": {
        "id": "2GJxHwR90WtM"
      },
      "source": [
        "model.save_weights('/content/drive/MyDrive/brainTumorClassification/BrainTumorWeights.h5')"
      ],
      "execution_count": null,
      "outputs": []
    }
  ]
}